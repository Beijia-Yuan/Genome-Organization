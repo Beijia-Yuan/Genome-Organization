{
 "cells": [
  {
   "cell_type": "code",
   "execution_count": 1,
   "id": "454b4da6",
   "metadata": {},
   "outputs": [],
   "source": [
    "import numpy as np\n",
    "import random\n",
    "from scipy.integrate import quad\n",
    "import matplotlib.pylab as plt"
   ]
  },
  {
   "cell_type": "code",
   "execution_count": 2,
   "id": "90ed127a",
   "metadata": {},
   "outputs": [],
   "source": [
    "def A_ld(m,l,n,x,y):\n",
    "    A = (l*n + l*m + m*n)/(2*m*l*n)\n",
    "    ld = l * (n*x+m*y)/(l*n + l*m + m*n)\n",
    "    return A, ld"
   ]
  },
  {
   "cell_type": "code",
   "execution_count": 44,
   "id": "28331eee",
   "metadata": {},
   "outputs": [],
   "source": [
    "def integrand1(x, A, ld):\n",
    "    return x * np.exp(-A*(x-ld)**2)\n",
    "def integrand2(x, A, ld):\n",
    "    return np.exp(-A*(x-ld)**2)\n",
    "def expint(A, ld):\n",
    "    return quad(integrand1, -np.inf, np.inf, args=(A, ld))[0]/quad(integrand2, -np.inf, np.inf, args=(A, ld))[0]"
   ]
  },
  {
   "cell_type": "code",
   "execution_count": 27,
   "id": "6879c7f2",
   "metadata": {},
   "outputs": [],
   "source": [
    "A, ld = A_ld(2,1,2,1,1)"
   ]
  },
  {
   "cell_type": "code",
   "execution_count": 28,
   "id": "b535d709",
   "metadata": {},
   "outputs": [
    {
     "data": {
      "text/plain": [
       "0.7889781813726306"
      ]
     },
     "execution_count": 28,
     "metadata": {},
     "output_type": "execute_result"
    }
   ],
   "source": [
    "expint(A, ld)"
   ]
  },
  {
   "cell_type": "code",
   "execution_count": 147,
   "id": "5fde3912",
   "metadata": {},
   "outputs": [],
   "source": [
    "m = 100\n",
    "distribution = {}\n",
    "for i in range(2000000):\n",
    "    steps = []\n",
    "    steps.append(0)\n",
    "    for j in range(m-1):\n",
    "        nxt = np.random.randint(2)\n",
    "        if nxt == 0:\n",
    "            steps.append(steps[j]-1)\n",
    "        elif nxt == 1:\n",
    "            steps.append(steps[j]+1)\n",
    "    a = steps[30]\n",
    "    b = steps[50]-steps[30]\n",
    "    c = steps[99]-steps[50]\n",
    "    if (a,b,c) in distribution:\n",
    "        distribution[(a,b,c)].append(b)\n",
    "    else:\n",
    "        distribution[(a,b,c)] = [b]"
   ]
  },
  {
   "cell_type": "code",
   "execution_count": 149,
   "id": "257234e7",
   "metadata": {},
   "outputs": [],
   "source": [
    "stat = {}\n",
    "for eed in distribution:\n",
    "    a,b,c = eed\n",
    "    #print(b)\n",
    "    #print(distribution[eed])\n",
    "    #break\n",
    "    if (a+b,b+c) in stat:\n",
    "        stat[(a+b,b+c)] += distribution[eed]\n",
    "    else:\n",
    "        stat[(a+b,b+c)] = distribution[eed]\n",
    "stat2 = {}\n",
    "for eed in stat:\n",
    "    if len(stat[eed]) > 10:\n",
    "        stat2[eed] = np.mean(stat[eed])"
   ]
  },
  {
   "cell_type": "code",
   "execution_count": 150,
   "id": "da57fa23",
   "metadata": {},
   "outputs": [],
   "source": [
    "distribution2 = []\n",
    "for eed in stat2:\n",
    "    x = eed[0]; y = eed[1]\n",
    "    A, ld = A_ld(30,20,50,x,y)\n",
    "    distribution2.append((stat2[eed], ld))"
   ]
  },
  {
   "cell_type": "code",
   "execution_count": 154,
   "id": "ffe229d5",
   "metadata": {},
   "outputs": [],
   "source": [
    "stat3 = {}\n",
    "for eed in stat:\n",
    "    if len(stat[eed]) > 10:\n",
    "        stat3[eed] = np.mean(np.square(stat[eed]))"
   ]
  },
  {
   "cell_type": "code",
   "execution_count": 109,
   "id": "2cdbfd77",
   "metadata": {},
   "outputs": [],
   "source": [
    "stat3 = {}\n",
    "for eed in stat:\n",
    "    if len(stat[eed]) > 30:\n",
    "        s=0; c=0\n",
    "        for i in stat[eed]:\n",
    "            s += i**2\n",
    "            c += 1\n",
    "        stat3[eed] = (s/c)"
   ]
  },
  {
   "cell_type": "code",
   "execution_count": 71,
   "id": "c17ba9f2",
   "metadata": {},
   "outputs": [
    {
     "data": {
      "text/plain": [
       "array([1, 4, 9], dtype=int32)"
      ]
     },
     "execution_count": 71,
     "metadata": {},
     "output_type": "execute_result"
    }
   ],
   "source": [
    "np.square([1,2,3])"
   ]
  },
  {
   "cell_type": "code",
   "execution_count": 155,
   "id": "bdbd9096",
   "metadata": {},
   "outputs": [],
   "source": [
    "distribution3 = []\n",
    "for eed in stat3:\n",
    "    x = eed[0]; y = eed[1]\n",
    "    A, ld = A_ld(30,20,50,x,y)\n",
    "    distribution3.append((stat3[eed], 1/2/A+ld**2))"
   ]
  },
  {
   "cell_type": "code",
   "execution_count": 100,
   "id": "44d2441d",
   "metadata": {},
   "outputs": [
    {
     "data": {
      "text/plain": [
       "(0.051666666666666666, 4.838709677419355)"
      ]
     },
     "execution_count": 100,
     "metadata": {},
     "output_type": "execute_result"
    }
   ],
   "source": [
    "A_ld(30,20,50,12,5)"
   ]
  },
  {
   "cell_type": "code",
   "execution_count": 101,
   "id": "b8124c9e",
   "metadata": {},
   "outputs": [
    {
     "data": {
      "text/plain": [
       "33.413017690000004"
      ]
     },
     "execution_count": 101,
     "metadata": {},
     "output_type": "execute_result"
    }
   ],
   "source": [
    "1/2/0.05+4.8387**2"
   ]
  },
  {
   "cell_type": "code",
   "execution_count": 156,
   "id": "d0928bc7",
   "metadata": {},
   "outputs": [
    {
     "data": {
      "image/png": "[encoded data removed]",
      "text/plain": [
       "<Figure size 432x288 with 1 Axes>"
      ]
     },
     "metadata": {
      "needs_background": "light"
     },
     "output_type": "display_data"
    }
   ],
   "source": [
    "plt.scatter(*zip(*distribution3),s=5)\n",
    "plt.show()"
   ]
  },
  {
   "cell_type": "code",
   "execution_count": 157,
   "id": "63de1a6e",
   "metadata": {},
   "outputs": [],
   "source": [
    "a, b = np.polyfit(*zip(*distribution3), 1)"
   ]
  },
  {
   "cell_type": "code",
   "execution_count": 158,
   "id": "a2c19b1c",
   "metadata": {},
   "outputs": [
    {
     "data": {
      "text/plain": [
       "(1.0124932773400805, -0.21929221179737302)"
      ]
     },
     "execution_count": 158,
     "metadata": {},
     "output_type": "execute_result"
    }
   ],
   "source": [
    "a,b"
   ]
  },
  {
   "cell_type": "code",
   "execution_count": 119,
   "id": "2c41c502",
   "metadata": {},
   "outputs": [
    {
     "data": {
      "text/plain": [
       "{(12, 5): 57.63934426229508,\n",
       " (6, 7): 58.208955223880594,\n",
       " (0, 9): 52.298507462686565,\n",
       " (8, 9): 60.59701492537314,\n",
       " (-10, -19): 89.0909090909091,\n",
       " (-4, -11): 53.43283582089552,\n",
       " (-2, -5): 63.83561643835616,\n",
       " (-6, 9): 41.967213114754095,\n",
       " (-8, 3): 83.05882352941177,\n",
       " (-8, -15): 76.8955223880597,\n",
       " (0, 11): 47.278688524590166,\n",
       " (-6, -3): 63.013698630136986,\n",
       " (6, -7): 67.94520547945206,\n",
       " (10, 3): 59.701492537313435,\n",
       " (-2, -13): 58.208955223880594,\n",
       " (-14, -1): 59.278688524590166,\n",
       " (2, -15): 45.45454545454545,\n",
       " (12, 7): 82.22950819672131,\n",
       " (-6, -1): 63.013698630136986,\n",
       " (10, -15): 42.950819672131146,\n",
       " (4, 11): 76.93150684931507,\n",
       " (8, 3): 56.11940298507463,\n",
       " (4, 1): 70.17721518987342,\n",
       " (-12, -7): 70.6268656716418,\n",
       " (-8, -11): 75.40298507462687,\n",
       " (-2, 13): 47.60655737704918,\n",
       " (-2, -3): 70.17721518987342,\n",
       " (-2, 1): 59.56164383561644,\n",
       " (6, -5): 64.10958904109589,\n",
       " (-12, -13): 73.31343283582089,\n",
       " (-10, 1): 65.97014925373135,\n",
       " (-4, 7): 59.56164383561644,\n",
       " (4, 3): 63.013698630136986,\n",
       " (-16, -3): 50.18181818181818,\n",
       " (-2, -7): 63.83561643835616,\n",
       " (4, -17): 52.0,\n",
       " (-8, 9): 41.967213114754095,\n",
       " (-2, -1): 58.73972602739726,\n",
       " (-2, 9): 52.298507462686565,\n",
       " (-12, -11): 103.58208955223881,\n",
       " (0, -7): 63.013698630136986,\n",
       " (6, 1): 70.17721518987342,\n",
       " (-8, 1): 60.59701492537314,\n",
       " (-4, -7): 78.43037974683544,\n",
       " (4, 5): 69.92405063291139,\n",
       " (2, -3): 59.56164383561644,\n",
       " (8, -7): 59.56164383561644,\n",
       " (8, -5): 52.0,\n",
       " (4, -5): 78.82352941176471,\n",
       " (0, 1): 69.92405063291139,\n",
       " (-4, -9): 76.40506329113924,\n",
       " (2, -9): 49.61194029850746,\n",
       " (-10, -7): 60.26229508196721,\n",
       " (2, 9): 63.83561643835616,\n",
       " (-6, -17): 73.31343283582089,\n",
       " (-10, 5): 59.701492537313435,\n",
       " (-6, -7): 76.65753424657534,\n",
       " (6, 9): 74.46575342465754,\n",
       " (2, 11): 60.8955223880597,\n",
       " (0, 5): 51.1044776119403,\n",
       " (14, 13): 89.0909090909091,\n",
       " (8, 5): 58.208955223880594,\n",
       " (2, -1): 59.83561643835616,\n",
       " (2, 13): 60.59701492537314,\n",
       " (10, -11): 47.60655737704918,\n",
       " (-6, -5): 59.701492537313435,\n",
       " (-4, 9): 59.56164383561644,\n",
       " (4, 9): 63.83561643835616,\n",
       " (-2, 7): 51.1044776119403,\n",
       " (-4, 1): 73.87341772151899,\n",
       " (-2, -9): 56.11940298507463,\n",
       " (2, 5): 64.10958904109589,\n",
       " (-12, 3): 59.278688524590166,\n",
       " (0, -13): 60.59701492537314,\n",
       " (-10, -11): 67.34328358208955,\n",
       " (0, 7): 63.83561643835616,\n",
       " (4, -9): 51.1044776119403,\n",
       " (0, -5): 59.83561643835616,\n",
       " (-8, -3): 63.013698630136986,\n",
       " (-4, -5): 63.83561643835616,\n",
       " (2, 7): 63.83561643835616,\n",
       " (0, -1): 69.16455696202532,\n",
       " (6, 11): 60.59701492537314,\n",
       " (4, -1): 58.73972602739726,\n",
       " (0, -3): 63.83561643835616,\n",
       " (-2, 5): 51.1044776119403,\n",
       " (-6, -11): 76.65753424657534,\n",
       " (8, -11): 41.967213114754095,\n",
       " (-8, -1): 58.208955223880594,\n",
       " (-2, 3): 57.36986301369863,\n",
       " (2, 3): 63.013698630136986,\n",
       " (-6, 7): 41.967213114754095,\n",
       " (6, 5): 77.67088607594937,\n",
       " (-6, 11): 52.0,\n",
       " (-4, -3): 81.56962025316456,\n",
       " (-4, 5): 51.1044776119403,\n",
       " (-14, -7): 75.40298507462687,\n",
       " (6, -3): 63.83561643835616,\n",
       " (-2, 11): 52.0,\n",
       " (2, -7): 63.013698630136986,\n",
       " (6, -13): 41.967213114754095,\n",
       " (6, 15): 59.278688524590166,\n",
       " (6, 3): 60.59701492537314,\n",
       " (2, 17): 60.59016393442623,\n",
       " (0, 15): 58.208955223880594,\n",
       " (8, 1): 60.8955223880597,\n",
       " (-12, -1): 60.26229508196721,\n",
       " (-10, -3): 76.65753424657534,\n",
       " (-18, -1): 81.90163934426229,\n",
       " (4, -15): 47.60655737704918,\n",
       " (-16, -13): 86.18181818181819,\n",
       " (-16, -1): 61.81818181818182,\n",
       " (0, 3): 69.92405063291139,\n",
       " (-12, -9): 75.40298507462687,\n",
       " (16, 7): 86.18181818181819,\n",
       " (6, -1): 64.10958904109589,\n",
       " (2, -13): 51.1044776119403,\n",
       " (12, 19): 80.36363636363636,\n",
       " (4, 7): 59.726027397260275,\n",
       " (4, -13): 57.36986301369863,\n",
       " (10, 7): 76.8955223880597,\n",
       " (-10, -1): 62.92537313432836,\n",
       " (6, -9): 51.1044776119403,\n",
       " (-8, -9): 74.46575342465754,\n",
       " (16, -1): 62.90909090909091,\n",
       " (-6, 5): 63.83561643835616,\n",
       " (0, -11): 59.701492537313435,\n",
       " (-6, 13): 52.0,\n",
       " (6, 13): 77.7910447761194,\n",
       " (-6, 3): 63.013698630136986,\n",
       " (-6, -13): 57.63934426229508,\n",
       " (10, -3): 48.776119402985074,\n",
       " (-6, -9): 61.64383561643836,\n",
       " (-4, 11): 52.0,\n",
       " (12, -1): 60.59016393442623,\n",
       " (-8, -7): 59.701492537313435,\n",
       " (-4, -15): 77.7910447761194,\n",
       " (-4, -1): 78.82352941176471,\n",
       " (10, -7): 47.278688524590166,\n",
       " (8, 19): 76.8955223880597,\n",
       " (-10, 13): 33.81818181818182,\n",
       " (-2, -11): 61.64383561643836,\n",
       " (12, 15): 80.91803278688525,\n",
       " (18, 1): 60.0,\n",
       " (10, -1): 59.278688524590166,\n",
       " (8, 13): 76.8955223880597,\n",
       " (-2, 17): 60.26229508196721,\n",
       " (-14, -15): 101.19402985074628,\n",
       " (8, 15): 58.985074626865675,\n",
       " (-12, -21): 109.57377049180327,\n",
       " (-8, -5): 61.43283582089552,\n",
       " (-10, 3): 63.83561643835616,\n",
       " (8, 17): 66.1639344262295,\n",
       " (-4, 13): 44.65573770491803,\n",
       " (12, -3): 39.40983606557377,\n",
       " (8, 11): 77.7910447761194,\n",
       " (10, -5): 51.1044776119403,\n",
       " (0, -9): 63.83561643835616,\n",
       " (18, 7): 89.45454545454545,\n",
       " (-10, -13): 77.7910447761194,\n",
       " (14, 11): 70.42622950819673,\n",
       " (4, -7): 51.1044776119403,\n",
       " (12, 11): 99.1044776119403,\n",
       " (2, -19): 47.278688524590166,\n",
       " (-10, -21): 86.18181818181819,\n",
       " (-12, -5): 57.63934426229508,\n",
       " (14, 3): 55.34426229508197,\n",
       " (-4, 17): 35.63636363636363,\n",
       " (-6, 1): 52.0,\n",
       " (-10, -5): 60.59701492537314,\n",
       " (-14, -13): 80.91803278688525,\n",
       " (8, 7): 77.7910447761194,\n",
       " (0, 21): 79.27868852459017,\n",
       " (-16, -5): 79.27868852459017,\n",
       " (10, 1): 58.208955223880594,\n",
       " (10, -9): 63.013698630136986,\n",
       " (4, 17): 77.7910447761194,\n",
       " (-8, 5): 61.64383561643836,\n",
       " (-14, -3): 75.40298507462687,\n",
       " (12, 3): 59.278688524590166,\n",
       " (6, -11): 52.0,\n",
       " (14, -5): 62.032786885245905,\n",
       " (2, 1): 69.16455696202532,\n",
       " (10, 23): 118.54545454545455,\n",
       " (10, 15): 81.90163934426229,\n",
       " (-12, -15): 74.0327868852459,\n",
       " (2, -11): 69.92405063291139,\n",
       " (-16, 1): 62.90909090909091,\n",
       " (-4, -17): 57.63934426229508,\n",
       " (-10, -17): 76.98360655737704,\n",
       " (12, -5): 46.295081967213115,\n",
       " (-4, 3): 69.16455696202532,\n",
       " (-6, 17): 37.09090909090909,\n",
       " (-4, -13): 63.83561643835616,\n",
       " (4, -3): 70.17721518987342,\n",
       " (6, 17): 52.39344262295082,\n",
       " (10, -13): 42.950819672131146,\n",
       " (2, -21): 42.54545454545455,\n",
       " (12, 9): 97.20547945205479,\n",
       " (8, -1): 63.83561643835616,\n",
       " (-6, 19): 36.72727272727273,\n",
       " (8, -3): 49.61194029850746,\n",
       " (-16, -15): 121.0909090909091,\n",
       " (10, 11): 75.40298507462687,\n",
       " (-8, -13): 76.8955223880597,\n",
       " (2, -5): 70.17721518987342,\n",
       " (-12, 7): 56.11940298507463,\n",
       " (10, 13): 76.8955223880597,\n",
       " (0, 19): 55.34426229508197,\n",
       " (2, 19): 57.63934426229508,\n",
       " (-14, 1): 55.34426229508197,\n",
       " (4, 13): 59.278688524590166,\n",
       " (0, 13): 64.10958904109589,\n",
       " (-16, -9): 76.98360655737704,\n",
       " (-12, -3): 60.59701492537314,\n",
       " (6, -17): 46.295081967213115,\n",
       " (18, 9): 124.0,\n",
       " (0, 17): 47.278688524590166,\n",
       " (14, 5): 75.82089552238806,\n",
       " (14, 17): 83.63636363636364,\n",
       " (-12, 5): 42.54545454545455,\n",
       " (4, -11): 52.0,\n",
       " (-2, -19): 42.54545454545455,\n",
       " (12, -13): 36.72727272727273,\n",
       " (14, 7): 88.43835616438356,\n",
       " (-6, -21): 80.91803278688525,\n",
       " (10, 5): 72.54794520547945,\n",
       " (12, 17): 75.40298507462687,\n",
       " (-4, -19): 61.81818181818182,\n",
       " (-10, 9): 47.60655737704918,\n",
       " (8, 23): 76.36363636363636,\n",
       " (-14, 3): 57.63934426229508,\n",
       " (-4, -23): 88.0,\n",
       " (-10, -9): 77.7910447761194,\n",
       " (16, 15): 86.18181818181819,\n",
       " (-18, -17): 124.0,\n",
       " (-8, -23): 104.32786885245902,\n",
       " (10, 19): 74.0327868852459,\n",
       " (16, 3): 74.0327868852459,\n",
       " (-6, 15): 35.63636363636363,\n",
       " (-6, -15): 60.26229508196721,\n",
       " (-14, -5): 59.278688524590166,\n",
       " (-10, -15): 76.8955223880597,\n",
       " (-10, -23): 86.18181818181819,\n",
       " (14, -11): 44.65573770491803,\n",
       " (-8, -19): 79.27868852459017,\n",
       " (-14, -11): 88.0,\n",
       " (4, 15): 75.83561643835617,\n",
       " (18, 3): 86.18181818181819,\n",
       " (14, 1): 55.34426229508197,\n",
       " (-16, -11): 80.36363636363636,\n",
       " (-2, 19): 42.36065573770492,\n",
       " (-2, -17): 57.63934426229508,\n",
       " (-10, 7): 46.295081967213115,\n",
       " (12, 21): 111.21311475409836,\n",
       " (-16, 9): 36.72727272727273,\n",
       " (-8, -21): 70.42622950819673,\n",
       " (8, -13): 43.278688524590166,\n",
       " (-16, -21): 115.27272727272727,\n",
       " (-6, -19): 80.91803278688525,\n",
       " (6, -15): 36.72727272727273,\n",
       " (-8, 7): 52.0,\n",
       " (12, 1): 60.26229508196721,\n",
       " (12, -7): 46.295081967213115,\n",
       " (-2, -15): 58.208955223880594,\n",
       " (0, -17): 45.81818181818182,\n",
       " (16, 9): 111.21311475409836,\n",
       " (0, -21): 57.63934426229508,\n",
       " (10, 17): 80.91803278688525,\n",
       " (-12, 9): 46.295081967213115,\n",
       " (-8, 13): 41.967213114754095,\n",
       " (12, -11): 45.45454545454545,\n",
       " (16, 13): 80.36363636363636,\n",
       " (6, 19): 79.27868852459017,\n",
       " (-2, 15): 44.36363636363637,\n",
       " (-12, 1): 66.26865671641791,\n",
       " (14, 9): 79.27868852459017,\n",
       " (-8, -17): 103.88059701492537,\n",
       " (14, -3): 40.0,\n",
       " (0, -15): 58.208955223880594,\n",
       " (12, -9): 45.81818181818182,\n",
       " (-8, 11): 43.278688524590166,\n",
       " (16, 11): 96.41791044776119,\n",
       " (14, -1): 72.54794520547945,\n",
       " (-6, -23): 88.0,\n",
       " (-14, -9): 76.8955223880597,\n",
       " (-2, -21): 60.26229508196721,\n",
       " (18, 5): 79.27868852459017,\n",
       " (2, 15): 76.8955223880597,\n",
       " (8, -15): 36.72727272727273,\n",
       " (8, -9): 52.298507462686565,\n",
       " (12, 13): 83.63636363636364,\n",
       " (2, 21): 75.40298507462687,\n",
       " (-12, -17): 70.42622950819673,\n",
       " (-18, -7): 88.0,\n",
       " (14, 15): 83.63636363636364,\n",
       " (16, 1): 54.18181818181818,\n",
       " (10, 9): 77.7910447761194,\n",
       " (-12, 11): 44.36363636363637,\n",
       " (4, 19): 55.34426229508197,\n",
       " (-14, 5): 44.36363636363637,\n",
       " (16, -5): 62.90909090909091,\n",
       " (14, -7): 60.26229508196721,\n",
       " (14, -9): 46.295081967213115,\n",
       " (-18, -9): 86.18181818181819,\n",
       " (18, -1): 83.63636363636364,\n",
       " (-2, 21): 60.26229508196721,\n",
       " (-16, -7): 76.98360655737704,\n",
       " (2, -17): 60.8955223880597,\n",
       " (8, 25): 83.63636363636364,\n",
       " (-18, -11): 84.94545454545455,\n",
       " (4, 23): 61.81818181818182,\n",
       " (8, 21): 80.91803278688525,\n",
       " (-4, 15): 47.278688524590166,\n",
       " (-8, 15): 36.72727272727273,\n",
       " (-12, -19): 83.63636363636364,\n",
       " (-4, 19): 45.45454545454545,\n",
       " (-18, -5): 80.36363636363636,\n",
       " (16, -7): 60.26229508196721,\n",
       " (16, -9): 54.18181818181818,\n",
       " (-4, -21): 60.0,\n",
       " (14, 23): 83.63636363636364,\n",
       " (16, 19): 121.0909090909091,\n",
       " (18, 11): 118.54545454545455,\n",
       " (-16, 3): 60.0,\n",
       " (-20, -7): 84.94545454545455,\n",
       " (4, 21): 73.31343283582089,\n",
       " (-10, 11): 52.298507462686565,\n",
       " (14, 19): 86.18181818181819,\n",
       " (0, -19): 60.26229508196721,\n",
       " (-18, 3): 81.90163934426229,\n",
       " (10, 21): 104.32786885245902,\n",
       " (12, -15): 35.63636363636363,\n",
       " (16, -3): 62.90909090909091,\n",
       " (18, 15): 109.57377049180327,\n",
       " (-6, -25): 59.63636363636363,\n",
       " (16, 21): 115.27272727272727,\n",
       " (-12, 13): 40.654545454545456,\n",
       " (6, -19): 35.63636363636363,\n",
       " (-16, -17): 104.32786885245902,\n",
       " (18, 17): 115.27272727272727,\n",
       " (-8, 17): 35.08196721311475,\n",
       " (6, 23): 88.0,\n",
       " (-18, -13): 111.27272727272727,\n",
       " (2, 23): 69.81818181818181,\n",
       " (-2, -23): 74.0327868852459,\n",
       " (12, 23): 118.54545454545455,\n",
       " (4, -19): 44.36363636363637,\n",
       " (2, 25): 60.72727272727273,\n",
       " (-2, 23): 62.90909090909091,\n",
       " (4, -21): 36.72727272727273,\n",
       " (-18, 7): 62.90909090909091}"
      ]
     },
     "execution_count": 119,
     "metadata": {},
     "output_type": "execute_result"
    }
   ],
   "source": [
    "stat3"
   ]
  },
  {
   "cell_type": "code",
   "execution_count": 31,
   "id": "11045b45",
   "metadata": {},
   "outputs": [
    {
     "data": {
      "text/plain": [
       "9.636363636363637"
      ]
     },
     "execution_count": 31,
     "metadata": {},
     "output_type": "execute_result"
    }
   ],
   "source": [
    "np.mean([10, 14, 6, 8, 16, 4, 14, 6, 8, 16, 4])"
   ]
  },
  {
   "cell_type": "code",
   "execution_count": 141,
   "id": "a3d96e6f",
   "metadata": {},
   "outputs": [
    {
     "data": {
      "text/plain": [
       "[<matplotlib.axis.XTick at 0x2b695229070>,\n",
       " <matplotlib.axis.XTick at 0x2b695229040>,\n",
       " <matplotlib.axis.XTick at 0x2b695221c40>,\n",
       " <matplotlib.axis.XTick at 0x2b695277dc0>,\n",
       " <matplotlib.axis.XTick at 0x2b695285310>,\n",
       " <matplotlib.axis.XTick at 0x2b695285820>,\n",
       " <matplotlib.axis.XTick at 0x2b695285d30>,\n",
       " <matplotlib.axis.XTick at 0x2b69528b280>,\n",
       " <matplotlib.axis.XTick at 0x2b69528b790>,\n",
       " <matplotlib.axis.XTick at 0x2b69528bca0>,\n",
       " <matplotlib.axis.XTick at 0x2b69528b460>,\n",
       " <matplotlib.axis.XTick at 0x2b6952854f0>,\n",
       " <matplotlib.axis.XTick at 0x2b695283040>,\n",
       " <matplotlib.axis.XTick at 0x2b695283550>,\n",
       " <matplotlib.axis.XTick at 0x2b695283a60>,\n",
       " <matplotlib.axis.XTick at 0x2b695283f70>,\n",
       " <matplotlib.axis.XTick at 0x2b6952954c0>,\n",
       " <matplotlib.axis.XTick at 0x2b6952959d0>,\n",
       " <matplotlib.axis.XTick at 0x2b695295ee0>,\n",
       " <matplotlib.axis.XTick at 0x2b695295610>]"
      ]
     },
     "execution_count": 141,
     "metadata": {},
     "output_type": "execute_result"
    },
    {
     "data": {
      "image/png": "[encoded data removed]",
      "text/plain": [
       "<Figure size 432x288 with 1 Axes>"
      ]
     },
     "metadata": {
      "needs_background": "light"
     },
     "output_type": "display_data"
    }
   ],
   "source": [
    "data = stat[(-10,-19)]\n",
    "bins = np.arange(min(data), max(data) + 1.5) - 0.5\n",
    "\n",
    "# then you plot away\n",
    "fig, ax = plt.subplots()\n",
    "_ = ax.hist(data, bins)\n",
    "ax.set_xticks(bins + 0.5)"
   ]
  },
  {
   "cell_type": "code",
   "execution_count": 143,
   "id": "d682b6d0",
   "metadata": {},
   "outputs": [
    {
     "data": {
      "text/plain": [
       "[2,\n",
       " 4,\n",
       " 6,\n",
       " 14,\n",
       " 0,\n",
       " 8,\n",
       " -4,\n",
       " -2,\n",
       " 10,\n",
       " -6,\n",
       " 12,\n",
       " -8,\n",
       " 4,\n",
       " 6,\n",
       " 14,\n",
       " 0,\n",
       " 8,\n",
       " -4,\n",
       " -2,\n",
       " 10,\n",
       " -6,\n",
       " 12,\n",
       " -8,\n",
       " 4,\n",
       " 6,\n",
       " 14,\n",
       " 0,\n",
       " 8,\n",
       " -4,\n",
       " -2,\n",
       " 10,\n",
       " -6,\n",
       " 12,\n",
       " -8,\n",
       " 4,\n",
       " 6,\n",
       " 14,\n",
       " 0,\n",
       " 8,\n",
       " -4,\n",
       " -2,\n",
       " 10,\n",
       " -6,\n",
       " 12,\n",
       " -8,\n",
       " 4,\n",
       " 6,\n",
       " 14,\n",
       " 0,\n",
       " 8,\n",
       " -4,\n",
       " -2,\n",
       " 10,\n",
       " -6,\n",
       " 12,\n",
       " -8,\n",
       " 4,\n",
       " 6,\n",
       " 14,\n",
       " 0,\n",
       " 8,\n",
       " -4,\n",
       " -2,\n",
       " 10,\n",
       " -6,\n",
       " 12,\n",
       " -8,\n",
       " 4,\n",
       " 6,\n",
       " 14,\n",
       " 0,\n",
       " 8,\n",
       " -4,\n",
       " -2,\n",
       " 10,\n",
       " -6,\n",
       " 12,\n",
       " -8]"
      ]
     },
     "execution_count": 143,
     "metadata": {},
     "output_type": "execute_result"
    }
   ],
   "source": [
    "stat[(8,9)]"
   ]
  }
 ],
 "metadata": {
  "kernelspec": {
   "display_name": "Python 3",
   "language": "python",
   "name": "python3"
  },
  "language_info": {
   "codemirror_mode": {
    "name": "ipython",
    "version": 3
   },
   "file_extension": ".py",
   "mimetype": "text/x-python",
   "name": "python",
   "nbconvert_exporter": "python",
   "pygments_lexer": "ipython3",
   "version": "3.8.8"
  }
 },
 "nbformat": 4,
 "nbformat_minor": 5
}
